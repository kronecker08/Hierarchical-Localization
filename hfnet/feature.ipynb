#JSS
import numpy as np
import argparse
import yaml
import logging
from pathlib import Path
from tqdm import tqdm
from pprint import pformat
import h5py

logging.basicConfig(format='[%(asctime)s %(levelname)s] %(message)s',
                    datefmt='%m/%d/%Y %H:%M:%S',
                    level=logging.INFO)
from hfnet.models import get_model  # noqa: E402
from hfnet.datasets import get_dataset  # noqa: E402
from hfnet.utils import tools  # noqa: E402
from hfnet.settings import EXPER_PATH, DATA_PATH  # noqa: E402

export_name = "netvlad/aachen"
#    exper_name = args.exper_name
    
    
with open("/home/hfnet/hfnet/configs/netvlad_export_aachen.yaml", 'r') as f:
    config = yaml.load(f)
keys = ['global_descriptor']

base_dir = Path(EXPER_PATH, 'exports')
base_dir = Path(base_dir,export_name)
base_dir.mkdir(parents=True, exist_ok=True)


config.get('weights', None)
checkpoint_path = Path(DATA_PATH, 'weights', config['weights'])
global_feature_path=Path(DATA_PATH, 'global_features.h5')
global_feature_file = h5py.File(str(global_feature_path), 'w')


if True:
    with get_model(config['model']['name'])(
            data_shape={'image': [None, None, None, config['model']['image_channels']]},
            **config['model']) as net:
        if checkpoint_path is not None:
            net.load(str(checkpoint_path))
        dataset = get_dataset(config['data']['name'])(**config['data'])
        test_set = dataset.get_test_set()

        for data in tqdm(test_set):
            predictions = net.predict(data, keys=keys)
            predictions['input_shape'] = data['image'].shape
            
            name = data['name'].decode('utf-8')
            
            grp = global_feature_file.create_group(str(name))
            print(name)
            grp.create_dataset('global_descriptor', data=predictions['global_descriptor'])
            
            Path(base_dir, Path(name).parent).mkdir(parents=True, exist_ok=True)
            np.savez(Path(base_dir, '{}.npz'.format(name)), **predictions)
global_feature_file.close()